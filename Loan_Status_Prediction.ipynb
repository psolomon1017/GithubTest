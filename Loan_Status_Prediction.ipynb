{
 "cells": [
  {
   "cell_type": "markdown",
   "id": "fb896fd9",
   "metadata": {},
   "source": [
    "# Import Libraries"
   ]
  },
  {
   "cell_type": "code",
   "execution_count": 1,
   "id": "d6ce30b7",
   "metadata": {},
   "outputs": [],
   "source": [
    "import numpy as np\n",
    "import pandas as pd\n",
    "import matplotlib.pyplot as plt\n",
    "import seaborn as sns\n",
    "import joblib\n",
    "from sklearn.preprocessing import StandardScaler\n",
    "from sklearn.preprocessing import MinMaxScaler\n",
    "from sklearn.metrics import confusion_matrix\n",
    "from sklearn.metrics import classification_report\n",
    "from __future__ import print_function\n",
    "from sklearn import metrics\n",
    "from sklearn import tree\n",
    "import warnings\n",
    "warnings.filterwarnings('ignore')"
   ]
  },
  {
   "cell_type": "code",
   "execution_count": 2,
   "id": "4aaf0d64",
   "metadata": {},
   "outputs": [
    {
     "data": {
      "text/html": [
       "<div>\n",
       "<style scoped>\n",
       "    .dataframe tbody tr th:only-of-type {\n",
       "        vertical-align: middle;\n",
       "    }\n",
       "\n",
       "    .dataframe tbody tr th {\n",
       "        vertical-align: top;\n",
       "    }\n",
       "\n",
       "    .dataframe thead th {\n",
       "        text-align: right;\n",
       "    }\n",
       "</style>\n",
       "<table border=\"1\" class=\"dataframe\">\n",
       "  <thead>\n",
       "    <tr style=\"text-align: right;\">\n",
       "      <th></th>\n",
       "      <th>Unnamed: 0</th>\n",
       "      <th>Loan_ID</th>\n",
       "      <th>Gender</th>\n",
       "      <th>Married</th>\n",
       "      <th>Dependents</th>\n",
       "      <th>Education</th>\n",
       "      <th>Self_Employed</th>\n",
       "      <th>ApplicantIncome</th>\n",
       "      <th>CoapplicantIncome</th>\n",
       "      <th>LoanAmount</th>\n",
       "      <th>Loan_Amount_Term</th>\n",
       "      <th>Credit_History</th>\n",
       "      <th>Property_Area</th>\n",
       "      <th>Loan_Status</th>\n",
       "    </tr>\n",
       "  </thead>\n",
       "  <tbody>\n",
       "    <tr>\n",
       "      <th>0</th>\n",
       "      <td>0</td>\n",
       "      <td>LP001002</td>\n",
       "      <td>Male</td>\n",
       "      <td>No</td>\n",
       "      <td>0</td>\n",
       "      <td>Graduate</td>\n",
       "      <td>No</td>\n",
       "      <td>58490</td>\n",
       "      <td>0.0</td>\n",
       "      <td>NaN</td>\n",
       "      <td>360.0</td>\n",
       "      <td>1.0</td>\n",
       "      <td>Urban</td>\n",
       "      <td>Y</td>\n",
       "    </tr>\n",
       "    <tr>\n",
       "      <th>1</th>\n",
       "      <td>1</td>\n",
       "      <td>LP001003</td>\n",
       "      <td>Male</td>\n",
       "      <td>Yes</td>\n",
       "      <td>1</td>\n",
       "      <td>Graduate</td>\n",
       "      <td>No</td>\n",
       "      <td>45830</td>\n",
       "      <td>15080.0</td>\n",
       "      <td>1280000.0</td>\n",
       "      <td>360.0</td>\n",
       "      <td>1.0</td>\n",
       "      <td>Rural</td>\n",
       "      <td>N</td>\n",
       "    </tr>\n",
       "    <tr>\n",
       "      <th>2</th>\n",
       "      <td>2</td>\n",
       "      <td>LP001005</td>\n",
       "      <td>Male</td>\n",
       "      <td>Yes</td>\n",
       "      <td>0</td>\n",
       "      <td>Graduate</td>\n",
       "      <td>Yes</td>\n",
       "      <td>30000</td>\n",
       "      <td>0.0</td>\n",
       "      <td>660000.0</td>\n",
       "      <td>360.0</td>\n",
       "      <td>1.0</td>\n",
       "      <td>Urban</td>\n",
       "      <td>Y</td>\n",
       "    </tr>\n",
       "    <tr>\n",
       "      <th>3</th>\n",
       "      <td>3</td>\n",
       "      <td>LP001006</td>\n",
       "      <td>Male</td>\n",
       "      <td>Yes</td>\n",
       "      <td>0</td>\n",
       "      <td>Not Graduate</td>\n",
       "      <td>No</td>\n",
       "      <td>25830</td>\n",
       "      <td>23580.0</td>\n",
       "      <td>1200000.0</td>\n",
       "      <td>360.0</td>\n",
       "      <td>1.0</td>\n",
       "      <td>Urban</td>\n",
       "      <td>Y</td>\n",
       "    </tr>\n",
       "    <tr>\n",
       "      <th>4</th>\n",
       "      <td>4</td>\n",
       "      <td>LP001008</td>\n",
       "      <td>Male</td>\n",
       "      <td>No</td>\n",
       "      <td>0</td>\n",
       "      <td>Graduate</td>\n",
       "      <td>No</td>\n",
       "      <td>60000</td>\n",
       "      <td>0.0</td>\n",
       "      <td>1410000.0</td>\n",
       "      <td>360.0</td>\n",
       "      <td>1.0</td>\n",
       "      <td>Urban</td>\n",
       "      <td>Y</td>\n",
       "    </tr>\n",
       "    <tr>\n",
       "      <th>...</th>\n",
       "      <td>...</td>\n",
       "      <td>...</td>\n",
       "      <td>...</td>\n",
       "      <td>...</td>\n",
       "      <td>...</td>\n",
       "      <td>...</td>\n",
       "      <td>...</td>\n",
       "      <td>...</td>\n",
       "      <td>...</td>\n",
       "      <td>...</td>\n",
       "      <td>...</td>\n",
       "      <td>...</td>\n",
       "      <td>...</td>\n",
       "      <td>...</td>\n",
       "    </tr>\n",
       "    <tr>\n",
       "      <th>615</th>\n",
       "      <td>609</td>\n",
       "      <td>LP002978</td>\n",
       "      <td>Female</td>\n",
       "      <td>No</td>\n",
       "      <td>0</td>\n",
       "      <td>Graduate</td>\n",
       "      <td>No</td>\n",
       "      <td>29000</td>\n",
       "      <td>0.0</td>\n",
       "      <td>710000.0</td>\n",
       "      <td>360.0</td>\n",
       "      <td>1.0</td>\n",
       "      <td>Rural</td>\n",
       "      <td>Y</td>\n",
       "    </tr>\n",
       "    <tr>\n",
       "      <th>616</th>\n",
       "      <td>610</td>\n",
       "      <td>LP002979</td>\n",
       "      <td>Male</td>\n",
       "      <td>Yes</td>\n",
       "      <td>3+</td>\n",
       "      <td>Graduate</td>\n",
       "      <td>No</td>\n",
       "      <td>41060</td>\n",
       "      <td>0.0</td>\n",
       "      <td>400000.0</td>\n",
       "      <td>180.0</td>\n",
       "      <td>1.0</td>\n",
       "      <td>Rural</td>\n",
       "      <td>Y</td>\n",
       "    </tr>\n",
       "    <tr>\n",
       "      <th>617</th>\n",
       "      <td>611</td>\n",
       "      <td>LP002983</td>\n",
       "      <td>Male</td>\n",
       "      <td>Yes</td>\n",
       "      <td>1</td>\n",
       "      <td>Graduate</td>\n",
       "      <td>No</td>\n",
       "      <td>80720</td>\n",
       "      <td>2400.0</td>\n",
       "      <td>2530000.0</td>\n",
       "      <td>360.0</td>\n",
       "      <td>1.0</td>\n",
       "      <td>Urban</td>\n",
       "      <td>Y</td>\n",
       "    </tr>\n",
       "    <tr>\n",
       "      <th>618</th>\n",
       "      <td>612</td>\n",
       "      <td>LP002984</td>\n",
       "      <td>Male</td>\n",
       "      <td>Yes</td>\n",
       "      <td>2</td>\n",
       "      <td>Graduate</td>\n",
       "      <td>No</td>\n",
       "      <td>75830</td>\n",
       "      <td>0.0</td>\n",
       "      <td>1870000.0</td>\n",
       "      <td>360.0</td>\n",
       "      <td>1.0</td>\n",
       "      <td>Urban</td>\n",
       "      <td>Y</td>\n",
       "    </tr>\n",
       "    <tr>\n",
       "      <th>619</th>\n",
       "      <td>613</td>\n",
       "      <td>LP002990</td>\n",
       "      <td>Female</td>\n",
       "      <td>No</td>\n",
       "      <td>0</td>\n",
       "      <td>Graduate</td>\n",
       "      <td>Yes</td>\n",
       "      <td>45830</td>\n",
       "      <td>0.0</td>\n",
       "      <td>1330000.0</td>\n",
       "      <td>360.0</td>\n",
       "      <td>0.0</td>\n",
       "      <td>Semiurban</td>\n",
       "      <td>N</td>\n",
       "    </tr>\n",
       "  </tbody>\n",
       "</table>\n",
       "<p>620 rows × 14 columns</p>\n",
       "</div>"
      ],
      "text/plain": [
       "     Unnamed: 0   Loan_ID  Gender Married Dependents     Education  \\\n",
       "0             0  LP001002    Male      No          0      Graduate   \n",
       "1             1  LP001003    Male     Yes          1      Graduate   \n",
       "2             2  LP001005    Male     Yes          0      Graduate   \n",
       "3             3  LP001006    Male     Yes          0  Not Graduate   \n",
       "4             4  LP001008    Male      No          0      Graduate   \n",
       "..          ...       ...     ...     ...        ...           ...   \n",
       "615         609  LP002978  Female      No          0      Graduate   \n",
       "616         610  LP002979    Male     Yes         3+      Graduate   \n",
       "617         611  LP002983    Male     Yes          1      Graduate   \n",
       "618         612  LP002984    Male     Yes          2      Graduate   \n",
       "619         613  LP002990  Female      No          0      Graduate   \n",
       "\n",
       "    Self_Employed  ApplicantIncome  CoapplicantIncome  LoanAmount  \\\n",
       "0              No            58490                0.0         NaN   \n",
       "1              No            45830            15080.0   1280000.0   \n",
       "2             Yes            30000                0.0    660000.0   \n",
       "3              No            25830            23580.0   1200000.0   \n",
       "4              No            60000                0.0   1410000.0   \n",
       "..            ...              ...                ...         ...   \n",
       "615            No            29000                0.0    710000.0   \n",
       "616            No            41060                0.0    400000.0   \n",
       "617            No            80720             2400.0   2530000.0   \n",
       "618            No            75830                0.0   1870000.0   \n",
       "619           Yes            45830                0.0   1330000.0   \n",
       "\n",
       "     Loan_Amount_Term  Credit_History Property_Area Loan_Status  \n",
       "0               360.0             1.0         Urban           Y  \n",
       "1               360.0             1.0         Rural           N  \n",
       "2               360.0             1.0         Urban           Y  \n",
       "3               360.0             1.0         Urban           Y  \n",
       "4               360.0             1.0         Urban           Y  \n",
       "..                ...             ...           ...         ...  \n",
       "615             360.0             1.0         Rural           Y  \n",
       "616             180.0             1.0         Rural           Y  \n",
       "617             360.0             1.0         Urban           Y  \n",
       "618             360.0             1.0         Urban           Y  \n",
       "619             360.0             0.0     Semiurban           N  \n",
       "\n",
       "[620 rows x 14 columns]"
      ]
     },
     "execution_count": 2,
     "metadata": {},
     "output_type": "execute_result"
    }
   ],
   "source": [
    "# import dataset\n",
    "loan_df=pd.read_csv(\"C:/Users/MY PC/Documents/workspace/Loans_lite.csv\")\n",
    "loan_df"
   ]
  },
  {
   "cell_type": "markdown",
   "id": "8f9cf077",
   "metadata": {},
   "source": [
    "# Data Preprocessing"
   ]
  },
  {
   "cell_type": "code",
   "execution_count": 3,
   "id": "e7dda5b7",
   "metadata": {},
   "outputs": [
    {
     "name": "stdout",
     "output_type": "stream",
     "text": [
      "<class 'pandas.core.frame.DataFrame'>\n",
      "RangeIndex: 620 entries, 0 to 619\n",
      "Data columns (total 14 columns):\n",
      " #   Column             Non-Null Count  Dtype  \n",
      "---  ------             --------------  -----  \n",
      " 0   Unnamed: 0         620 non-null    int64  \n",
      " 1   Loan_ID            620 non-null    object \n",
      " 2   Gender             607 non-null    object \n",
      " 3   Married            617 non-null    object \n",
      " 4   Dependents         605 non-null    object \n",
      " 5   Education          620 non-null    object \n",
      " 6   Self_Employed      587 non-null    object \n",
      " 7   ApplicantIncome    620 non-null    int64  \n",
      " 8   CoapplicantIncome  620 non-null    float64\n",
      " 9   LoanAmount         598 non-null    float64\n",
      " 10  Loan_Amount_Term   606 non-null    float64\n",
      " 11  Credit_History     569 non-null    float64\n",
      " 12  Property_Area      620 non-null    object \n",
      " 13  Loan_Status        620 non-null    object \n",
      "dtypes: float64(4), int64(2), object(8)\n",
      "memory usage: 67.9+ KB\n"
     ]
    }
   ],
   "source": [
    "loan_df.info()"
   ]
  },
  {
   "cell_type": "code",
   "execution_count": 7,
   "id": "de9346f4",
   "metadata": {},
   "outputs": [
    {
     "data": {
      "text/html": [
       "<div>\n",
       "<style scoped>\n",
       "    .dataframe tbody tr th:only-of-type {\n",
       "        vertical-align: middle;\n",
       "    }\n",
       "\n",
       "    .dataframe tbody tr th {\n",
       "        vertical-align: top;\n",
       "    }\n",
       "\n",
       "    .dataframe thead th {\n",
       "        text-align: right;\n",
       "    }\n",
       "</style>\n",
       "<table border=\"1\" class=\"dataframe\">\n",
       "  <thead>\n",
       "    <tr style=\"text-align: right;\">\n",
       "      <th></th>\n",
       "      <th>Unnamed: 0</th>\n",
       "      <th>ApplicantIncome</th>\n",
       "      <th>CoapplicantIncome</th>\n",
       "      <th>LoanAmount</th>\n",
       "      <th>Loan_Amount_Term</th>\n",
       "      <th>Credit_History</th>\n",
       "    </tr>\n",
       "  </thead>\n",
       "  <tbody>\n",
       "    <tr>\n",
       "      <th>count</th>\n",
       "      <td>620.000000</td>\n",
       "      <td>620.000000</td>\n",
       "      <td>620.000000</td>\n",
       "      <td>5.980000e+02</td>\n",
       "      <td>606.000000</td>\n",
       "      <td>569.000000</td>\n",
       "    </tr>\n",
       "    <tr>\n",
       "      <th>mean</th>\n",
       "      <td>303.730645</td>\n",
       "      <td>53908.483871</td>\n",
       "      <td>16179.143871</td>\n",
       "      <td>1.460385e+06</td>\n",
       "      <td>341.782178</td>\n",
       "      <td>0.841828</td>\n",
       "    </tr>\n",
       "    <tr>\n",
       "      <th>std</th>\n",
       "      <td>178.742692</td>\n",
       "      <td>60861.304704</td>\n",
       "      <td>29136.617959</td>\n",
       "      <td>8.541896e+05</td>\n",
       "      <td>65.442363</td>\n",
       "      <td>0.365223</td>\n",
       "    </tr>\n",
       "    <tr>\n",
       "      <th>min</th>\n",
       "      <td>0.000000</td>\n",
       "      <td>1500.000000</td>\n",
       "      <td>0.000000</td>\n",
       "      <td>9.000000e+04</td>\n",
       "      <td>12.000000</td>\n",
       "      <td>0.000000</td>\n",
       "    </tr>\n",
       "    <tr>\n",
       "      <th>25%</th>\n",
       "      <td>148.750000</td>\n",
       "      <td>28757.500000</td>\n",
       "      <td>0.000000</td>\n",
       "      <td>1.000000e+06</td>\n",
       "      <td>360.000000</td>\n",
       "      <td>1.000000</td>\n",
       "    </tr>\n",
       "    <tr>\n",
       "      <th>50%</th>\n",
       "      <td>303.500000</td>\n",
       "      <td>38060.000000</td>\n",
       "      <td>11490.000000</td>\n",
       "      <td>1.275000e+06</td>\n",
       "      <td>360.000000</td>\n",
       "      <td>1.000000</td>\n",
       "    </tr>\n",
       "    <tr>\n",
       "      <th>75%</th>\n",
       "      <td>458.250000</td>\n",
       "      <td>57850.000000</td>\n",
       "      <td>22877.500000</td>\n",
       "      <td>1.677500e+06</td>\n",
       "      <td>360.000000</td>\n",
       "      <td>1.000000</td>\n",
       "    </tr>\n",
       "    <tr>\n",
       "      <th>max</th>\n",
       "      <td>613.000000</td>\n",
       "      <td>810000.000000</td>\n",
       "      <td>416670.000000</td>\n",
       "      <td>7.000000e+06</td>\n",
       "      <td>480.000000</td>\n",
       "      <td>1.000000</td>\n",
       "    </tr>\n",
       "  </tbody>\n",
       "</table>\n",
       "</div>"
      ],
      "text/plain": [
       "       Unnamed: 0  ApplicantIncome  CoapplicantIncome    LoanAmount  \\\n",
       "count  620.000000       620.000000         620.000000  5.980000e+02   \n",
       "mean   303.730645     53908.483871       16179.143871  1.460385e+06   \n",
       "std    178.742692     60861.304704       29136.617959  8.541896e+05   \n",
       "min      0.000000      1500.000000           0.000000  9.000000e+04   \n",
       "25%    148.750000     28757.500000           0.000000  1.000000e+06   \n",
       "50%    303.500000     38060.000000       11490.000000  1.275000e+06   \n",
       "75%    458.250000     57850.000000       22877.500000  1.677500e+06   \n",
       "max    613.000000    810000.000000      416670.000000  7.000000e+06   \n",
       "\n",
       "       Loan_Amount_Term  Credit_History  \n",
       "count        606.000000      569.000000  \n",
       "mean         341.782178        0.841828  \n",
       "std           65.442363        0.365223  \n",
       "min           12.000000        0.000000  \n",
       "25%          360.000000        1.000000  \n",
       "50%          360.000000        1.000000  \n",
       "75%          360.000000        1.000000  \n",
       "max          480.000000        1.000000  "
      ]
     },
     "execution_count": 7,
     "metadata": {},
     "output_type": "execute_result"
    }
   ],
   "source": [
    "loan_df.describe()"
   ]
  },
  {
   "cell_type": "code",
   "execution_count": 8,
   "id": "3c98f778",
   "metadata": {},
   "outputs": [
    {
     "data": {
      "text/plain": [
       "Unnamed: 0             int64\n",
       "Loan_ID               object\n",
       "Gender                object\n",
       "Married               object\n",
       "Dependents            object\n",
       "Education             object\n",
       "Self_Employed         object\n",
       "ApplicantIncome        int64\n",
       "CoapplicantIncome    float64\n",
       "LoanAmount           float64\n",
       "Loan_Amount_Term     float64\n",
       "Credit_History       float64\n",
       "Property_Area         object\n",
       "Loan_Status           object\n",
       "dtype: object"
      ]
     },
     "execution_count": 8,
     "metadata": {},
     "output_type": "execute_result"
    }
   ],
   "source": [
    "loan_df.dtypes"
   ]
  },
  {
   "cell_type": "code",
   "execution_count": 9,
   "id": "ca39d642",
   "metadata": {},
   "outputs": [
    {
     "data": {
      "text/plain": [
       "Unnamed: 0            0\n",
       "Loan_ID               0\n",
       "Gender               13\n",
       "Married               3\n",
       "Dependents           15\n",
       "Education             0\n",
       "Self_Employed        33\n",
       "ApplicantIncome       0\n",
       "CoapplicantIncome     0\n",
       "LoanAmount           22\n",
       "Loan_Amount_Term     14\n",
       "Credit_History       51\n",
       "Property_Area         0\n",
       "Loan_Status           0\n",
       "dtype: int64"
      ]
     },
     "execution_count": 9,
     "metadata": {},
     "output_type": "execute_result"
    }
   ],
   "source": [
    "loan_df.isna().sum()"
   ]
  },
  {
   "cell_type": "code",
   "execution_count": 19,
   "id": "e825eb30",
   "metadata": {},
   "outputs": [
    {
     "data": {
      "text/plain": [
       "Unnamed: 0           0.000000\n",
       "Loan_ID              0.000000\n",
       "Gender               2.096774\n",
       "Married              0.483871\n",
       "Dependents           2.419355\n",
       "Education            0.000000\n",
       "Self_Employed        5.322581\n",
       "ApplicantIncome      0.000000\n",
       "CoapplicantIncome    0.000000\n",
       "LoanAmount           3.548387\n",
       "Loan_Amount_Term     2.258065\n",
       "Credit_History       8.225806\n",
       "Property_Area        0.000000\n",
       "Loan_Status          0.000000\n",
       "dtype: float64"
      ]
     },
     "execution_count": 19,
     "metadata": {},
     "output_type": "execute_result"
    }
   ],
   "source": [
    "percentage=(loan_df.isna().sum()/len(loan_df))*100\n",
    "percentage"
   ]
  },
  {
   "cell_type": "code",
   "execution_count": 20,
   "id": "9112e94b",
   "metadata": {},
   "outputs": [
    {
     "data": {
      "text/plain": [
       "Index(['Unnamed: 0', 'Loan_ID', 'Gender', 'Married', 'Dependents', 'Education',\n",
       "       'Self_Employed', 'ApplicantIncome', 'CoapplicantIncome', 'LoanAmount',\n",
       "       'Loan_Amount_Term', 'Credit_History', 'Property_Area', 'Loan_Status'],\n",
       "      dtype='object')"
      ]
     },
     "execution_count": 20,
     "metadata": {},
     "output_type": "execute_result"
    }
   ],
   "source": [
    "loan_df.columns"
   ]
  },
  {
   "cell_type": "code",
   "execution_count": 22,
   "id": "05caeceb",
   "metadata": {},
   "outputs": [
    {
     "data": {
      "text/plain": [
       "array(['No', 'Yes', nan], dtype=object)"
      ]
     },
     "execution_count": 22,
     "metadata": {},
     "output_type": "execute_result"
    }
   ],
   "source": [
    "loan_df.Married.unique()"
   ]
  },
  {
   "cell_type": "code",
   "execution_count": 23,
   "id": "109874ea",
   "metadata": {},
   "outputs": [
    {
     "data": {
      "text/plain": [
       "Yes    404\n",
       "No     213\n",
       "Name: Married, dtype: int64"
      ]
     },
     "execution_count": 23,
     "metadata": {},
     "output_type": "execute_result"
    }
   ],
   "source": [
    "loan_df.Married.value_counts()"
   ]
  },
  {
   "cell_type": "code",
   "execution_count": 28,
   "id": "82bf3c2b",
   "metadata": {},
   "outputs": [
    {
     "data": {
      "text/plain": [
       "array(['Male', 'Female', nan], dtype=object)"
      ]
     },
     "execution_count": 28,
     "metadata": {},
     "output_type": "execute_result"
    }
   ],
   "source": [
    "loan_df.Gender.unique()"
   ]
  },
  {
   "cell_type": "code",
   "execution_count": 26,
   "id": "5628c399",
   "metadata": {},
   "outputs": [
    {
     "data": {
      "text/plain": [
       "Male      495\n",
       "Female    112\n",
       "Name: Gender, dtype: int64"
      ]
     },
     "execution_count": 26,
     "metadata": {},
     "output_type": "execute_result"
    }
   ],
   "source": [
    "loan_df.Gender.value_counts()"
   ]
  },
  {
   "cell_type": "code",
   "execution_count": 29,
   "id": "d84dbda2",
   "metadata": {},
   "outputs": [
    {
     "data": {
      "text/plain": [
       "array(['No', 'Yes', nan], dtype=object)"
      ]
     },
     "execution_count": 29,
     "metadata": {},
     "output_type": "execute_result"
    }
   ],
   "source": [
    "loan_df.Self_Employed.unique()"
   ]
  },
  {
   "cell_type": "code",
   "execution_count": 30,
   "id": "ef3b86d4",
   "metadata": {},
   "outputs": [
    {
     "data": {
      "text/plain": [
       "No     504\n",
       "Yes     83\n",
       "Name: Self_Employed, dtype: int64"
      ]
     },
     "execution_count": 30,
     "metadata": {},
     "output_type": "execute_result"
    }
   ],
   "source": [
    "loan_df.Self_Employed.value_counts()"
   ]
  },
  {
   "cell_type": "code",
   "execution_count": 35,
   "id": "edbef1cb",
   "metadata": {},
   "outputs": [
    {
     "data": {
      "text/plain": [
       "array(['0', '1', '2', '3+', nan], dtype=object)"
      ]
     },
     "execution_count": 35,
     "metadata": {},
     "output_type": "execute_result"
    }
   ],
   "source": [
    "loan_df.Dependents.unique()"
   ]
  },
  {
   "cell_type": "code",
   "execution_count": 37,
   "id": "3771c02f",
   "metadata": {},
   "outputs": [
    {
     "data": {
      "text/plain": [
       "0     347\n",
       "2     104\n",
       "1     103\n",
       "3+     51\n",
       "Name: Dependents, dtype: int64"
      ]
     },
     "execution_count": 37,
     "metadata": {},
     "output_type": "execute_result"
    }
   ],
   "source": [
    "loan_df.Dependents.value_counts()"
   ]
  },
  {
   "cell_type": "code",
   "execution_count": 38,
   "id": "761dbbc5",
   "metadata": {},
   "outputs": [
    {
     "data": {
      "text/plain": [
       "array([ 1.,  0., nan])"
      ]
     },
     "execution_count": 38,
     "metadata": {},
     "output_type": "execute_result"
    }
   ],
   "source": [
    "loan_df.Credit_History.unique()"
   ]
  },
  {
   "cell_type": "code",
   "execution_count": 39,
   "id": "f505f844",
   "metadata": {},
   "outputs": [
    {
     "data": {
      "text/plain": [
       "1.0    479\n",
       "0.0     90\n",
       "Name: Credit_History, dtype: int64"
      ]
     },
     "execution_count": 39,
     "metadata": {},
     "output_type": "execute_result"
    }
   ],
   "source": [
    "loan_df.Credit_History.value_counts()"
   ]
  },
  {
   "cell_type": "code",
   "execution_count": 41,
   "id": "98e76a8f",
   "metadata": {},
   "outputs": [
    {
     "data": {
      "text/plain": [
       "array([360., 120., 240.,  nan, 180.,  60., 300., 480.,  36.,  84.,  12.])"
      ]
     },
     "execution_count": 41,
     "metadata": {},
     "output_type": "execute_result"
    }
   ],
   "source": [
    "loan_df.Loan_Amount_Term.unique()"
   ]
  },
  {
   "cell_type": "code",
   "execution_count": 42,
   "id": "223eac35",
   "metadata": {},
   "outputs": [
    {
     "data": {
      "text/plain": [
       "360.0    517\n",
       "180.0     44\n",
       "480.0     15\n",
       "300.0     13\n",
       "84.0       4\n",
       "240.0      4\n",
       "120.0      4\n",
       "36.0       2\n",
       "60.0       2\n",
       "12.0       1\n",
       "Name: Loan_Amount_Term, dtype: int64"
      ]
     },
     "execution_count": 42,
     "metadata": {},
     "output_type": "execute_result"
    }
   ],
   "source": [
    "loan_df.Loan_Amount_Term.value_counts()"
   ]
  },
  {
   "cell_type": "code",
   "execution_count": 45,
   "id": "48d40763",
   "metadata": {},
   "outputs": [
    {
     "data": {
      "text/plain": [
       "203"
      ]
     },
     "execution_count": 45,
     "metadata": {},
     "output_type": "execute_result"
    }
   ],
   "source": [
    "loan_df.LoanAmount.nunique()"
   ]
  },
  {
   "cell_type": "markdown",
   "id": "95a4ee07",
   "metadata": {},
   "source": [
    "# Checking for duplicate"
   ]
  },
  {
   "cell_type": "code",
   "execution_count": 4,
   "id": "cdd2e90f",
   "metadata": {},
   "outputs": [
    {
     "data": {
      "text/plain": [
       "6"
      ]
     },
     "execution_count": 4,
     "metadata": {},
     "output_type": "execute_result"
    }
   ],
   "source": [
    "loan_df.duplicated().sum()"
   ]
  },
  {
   "cell_type": "code",
   "execution_count": 5,
   "id": "a07af197",
   "metadata": {},
   "outputs": [],
   "source": [
    "# Remove Duplicate\n",
    "loan_df.drop_duplicates(inplace=True)"
   ]
  },
  {
   "cell_type": "code",
   "execution_count": 6,
   "id": "3ee60284",
   "metadata": {},
   "outputs": [
    {
     "data": {
      "text/plain": [
       "0"
      ]
     },
     "execution_count": 6,
     "metadata": {},
     "output_type": "execute_result"
    }
   ],
   "source": [
    "loan_df.duplicated().sum()"
   ]
  },
  {
   "cell_type": "markdown",
   "id": "797df978",
   "metadata": {},
   "source": [
    "# Data Cleaning"
   ]
  },
  {
   "cell_type": "code",
   "execution_count": 9,
   "id": "057290d1",
   "metadata": {},
   "outputs": [
    {
     "data": {
      "text/plain": [
       "0      1.0\n",
       "1      1.0\n",
       "2      1.0\n",
       "3      1.0\n",
       "4      1.0\n",
       "      ... \n",
       "615    1.0\n",
       "616    1.0\n",
       "617    1.0\n",
       "618    1.0\n",
       "619    0.0\n",
       "Name: Credit_History, Length: 614, dtype: object"
      ]
     },
     "execution_count": 9,
     "metadata": {},
     "output_type": "execute_result"
    }
   ],
   "source": [
    "loan_df.Credit_History.astype(object)"
   ]
  },
  {
   "cell_type": "code",
   "execution_count": 17,
   "id": "7c8aba7c",
   "metadata": {},
   "outputs": [],
   "source": [
    "loan_df['Married']=loan_df['Married'].replace(np.nan,'Yes')\n",
    "loan_df['Gender']=loan_df['Gender'].replace(np.nan,'Male')\n",
    "loan_df['Dependents']=loan_df['Dependents'].replace(np.nan,'0')\n",
    "loan_df['Dependents']=loan_df['Dependents'].replace('3+','3')\n",
    "loan_df['Self_Employed']=loan_df['Self_Employed'].replace(np.nan,'No')\n",
    "loan_df['Credit_History']=loan_df['Credit_History'].replace('1.0',1.0)\n"
   ]
  },
  {
   "cell_type": "code",
   "execution_count": 18,
   "id": "b50ef2cf",
   "metadata": {},
   "outputs": [
    {
     "data": {
      "text/plain": [
       "array(['0', '1', '2', '3'], dtype=object)"
      ]
     },
     "execution_count": 18,
     "metadata": {},
     "output_type": "execute_result"
    }
   ],
   "source": [
    "loan_df.Dependents.unique()"
   ]
  },
  {
   "cell_type": "code",
   "execution_count": 19,
   "id": "2ffdd8f0",
   "metadata": {},
   "outputs": [
    {
     "data": {
      "text/plain": [
       "Unnamed: 0            0\n",
       "Loan_ID               0\n",
       "Gender                0\n",
       "Married               0\n",
       "Dependents            0\n",
       "Education             0\n",
       "Self_Employed         0\n",
       "ApplicantIncome       0\n",
       "CoapplicantIncome     0\n",
       "LoanAmount           22\n",
       "Loan_Amount_Term     14\n",
       "Credit_History        0\n",
       "Property_Area         0\n",
       "Loan_Status           0\n",
       "dtype: int64"
      ]
     },
     "execution_count": 19,
     "metadata": {},
     "output_type": "execute_result"
    }
   ],
   "source": [
    "loan_df.isna().sum()"
   ]
  },
  {
   "cell_type": "code",
   "execution_count": 20,
   "id": "aad2e8e4",
   "metadata": {},
   "outputs": [
    {
     "data": {
      "text/html": [
       "<div>\n",
       "<style scoped>\n",
       "    .dataframe tbody tr th:only-of-type {\n",
       "        vertical-align: middle;\n",
       "    }\n",
       "\n",
       "    .dataframe tbody tr th {\n",
       "        vertical-align: top;\n",
       "    }\n",
       "\n",
       "    .dataframe thead th {\n",
       "        text-align: right;\n",
       "    }\n",
       "</style>\n",
       "<table border=\"1\" class=\"dataframe\">\n",
       "  <thead>\n",
       "    <tr style=\"text-align: right;\">\n",
       "      <th></th>\n",
       "      <th>Unnamed: 0</th>\n",
       "      <th>Loan_ID</th>\n",
       "      <th>Gender</th>\n",
       "      <th>Married</th>\n",
       "      <th>Dependents</th>\n",
       "      <th>Education</th>\n",
       "      <th>Self_Employed</th>\n",
       "      <th>ApplicantIncome</th>\n",
       "      <th>CoapplicantIncome</th>\n",
       "      <th>LoanAmount</th>\n",
       "      <th>Loan_Amount_Term</th>\n",
       "      <th>Credit_History</th>\n",
       "      <th>Property_Area</th>\n",
       "      <th>Loan_Status</th>\n",
       "    </tr>\n",
       "  </thead>\n",
       "  <tbody>\n",
       "    <tr>\n",
       "      <th>1</th>\n",
       "      <td>1</td>\n",
       "      <td>LP001003</td>\n",
       "      <td>Male</td>\n",
       "      <td>Yes</td>\n",
       "      <td>1</td>\n",
       "      <td>Graduate</td>\n",
       "      <td>No</td>\n",
       "      <td>45830</td>\n",
       "      <td>15080.0</td>\n",
       "      <td>1280000.0</td>\n",
       "      <td>360.0</td>\n",
       "      <td>1.0</td>\n",
       "      <td>Rural</td>\n",
       "      <td>N</td>\n",
       "    </tr>\n",
       "    <tr>\n",
       "      <th>2</th>\n",
       "      <td>2</td>\n",
       "      <td>LP001005</td>\n",
       "      <td>Male</td>\n",
       "      <td>Yes</td>\n",
       "      <td>0</td>\n",
       "      <td>Graduate</td>\n",
       "      <td>Yes</td>\n",
       "      <td>30000</td>\n",
       "      <td>0.0</td>\n",
       "      <td>660000.0</td>\n",
       "      <td>360.0</td>\n",
       "      <td>1.0</td>\n",
       "      <td>Urban</td>\n",
       "      <td>Y</td>\n",
       "    </tr>\n",
       "    <tr>\n",
       "      <th>3</th>\n",
       "      <td>3</td>\n",
       "      <td>LP001006</td>\n",
       "      <td>Male</td>\n",
       "      <td>Yes</td>\n",
       "      <td>0</td>\n",
       "      <td>Not Graduate</td>\n",
       "      <td>No</td>\n",
       "      <td>25830</td>\n",
       "      <td>23580.0</td>\n",
       "      <td>1200000.0</td>\n",
       "      <td>360.0</td>\n",
       "      <td>1.0</td>\n",
       "      <td>Urban</td>\n",
       "      <td>Y</td>\n",
       "    </tr>\n",
       "    <tr>\n",
       "      <th>4</th>\n",
       "      <td>4</td>\n",
       "      <td>LP001008</td>\n",
       "      <td>Male</td>\n",
       "      <td>No</td>\n",
       "      <td>0</td>\n",
       "      <td>Graduate</td>\n",
       "      <td>No</td>\n",
       "      <td>60000</td>\n",
       "      <td>0.0</td>\n",
       "      <td>1410000.0</td>\n",
       "      <td>360.0</td>\n",
       "      <td>1.0</td>\n",
       "      <td>Urban</td>\n",
       "      <td>Y</td>\n",
       "    </tr>\n",
       "    <tr>\n",
       "      <th>5</th>\n",
       "      <td>5</td>\n",
       "      <td>LP001011</td>\n",
       "      <td>Male</td>\n",
       "      <td>Yes</td>\n",
       "      <td>2</td>\n",
       "      <td>Graduate</td>\n",
       "      <td>Yes</td>\n",
       "      <td>54170</td>\n",
       "      <td>41960.0</td>\n",
       "      <td>2670000.0</td>\n",
       "      <td>360.0</td>\n",
       "      <td>1.0</td>\n",
       "      <td>Urban</td>\n",
       "      <td>Y</td>\n",
       "    </tr>\n",
       "    <tr>\n",
       "      <th>...</th>\n",
       "      <td>...</td>\n",
       "      <td>...</td>\n",
       "      <td>...</td>\n",
       "      <td>...</td>\n",
       "      <td>...</td>\n",
       "      <td>...</td>\n",
       "      <td>...</td>\n",
       "      <td>...</td>\n",
       "      <td>...</td>\n",
       "      <td>...</td>\n",
       "      <td>...</td>\n",
       "      <td>...</td>\n",
       "      <td>...</td>\n",
       "      <td>...</td>\n",
       "    </tr>\n",
       "    <tr>\n",
       "      <th>615</th>\n",
       "      <td>609</td>\n",
       "      <td>LP002978</td>\n",
       "      <td>Female</td>\n",
       "      <td>No</td>\n",
       "      <td>0</td>\n",
       "      <td>Graduate</td>\n",
       "      <td>No</td>\n",
       "      <td>29000</td>\n",
       "      <td>0.0</td>\n",
       "      <td>710000.0</td>\n",
       "      <td>360.0</td>\n",
       "      <td>1.0</td>\n",
       "      <td>Rural</td>\n",
       "      <td>Y</td>\n",
       "    </tr>\n",
       "    <tr>\n",
       "      <th>616</th>\n",
       "      <td>610</td>\n",
       "      <td>LP002979</td>\n",
       "      <td>Male</td>\n",
       "      <td>Yes</td>\n",
       "      <td>3</td>\n",
       "      <td>Graduate</td>\n",
       "      <td>No</td>\n",
       "      <td>41060</td>\n",
       "      <td>0.0</td>\n",
       "      <td>400000.0</td>\n",
       "      <td>180.0</td>\n",
       "      <td>1.0</td>\n",
       "      <td>Rural</td>\n",
       "      <td>Y</td>\n",
       "    </tr>\n",
       "    <tr>\n",
       "      <th>617</th>\n",
       "      <td>611</td>\n",
       "      <td>LP002983</td>\n",
       "      <td>Male</td>\n",
       "      <td>Yes</td>\n",
       "      <td>1</td>\n",
       "      <td>Graduate</td>\n",
       "      <td>No</td>\n",
       "      <td>80720</td>\n",
       "      <td>2400.0</td>\n",
       "      <td>2530000.0</td>\n",
       "      <td>360.0</td>\n",
       "      <td>1.0</td>\n",
       "      <td>Urban</td>\n",
       "      <td>Y</td>\n",
       "    </tr>\n",
       "    <tr>\n",
       "      <th>618</th>\n",
       "      <td>612</td>\n",
       "      <td>LP002984</td>\n",
       "      <td>Male</td>\n",
       "      <td>Yes</td>\n",
       "      <td>2</td>\n",
       "      <td>Graduate</td>\n",
       "      <td>No</td>\n",
       "      <td>75830</td>\n",
       "      <td>0.0</td>\n",
       "      <td>1870000.0</td>\n",
       "      <td>360.0</td>\n",
       "      <td>1.0</td>\n",
       "      <td>Urban</td>\n",
       "      <td>Y</td>\n",
       "    </tr>\n",
       "    <tr>\n",
       "      <th>619</th>\n",
       "      <td>613</td>\n",
       "      <td>LP002990</td>\n",
       "      <td>Female</td>\n",
       "      <td>No</td>\n",
       "      <td>0</td>\n",
       "      <td>Graduate</td>\n",
       "      <td>Yes</td>\n",
       "      <td>45830</td>\n",
       "      <td>0.0</td>\n",
       "      <td>1330000.0</td>\n",
       "      <td>360.0</td>\n",
       "      <td>0.0</td>\n",
       "      <td>Semiurban</td>\n",
       "      <td>N</td>\n",
       "    </tr>\n",
       "  </tbody>\n",
       "</table>\n",
       "<p>578 rows × 14 columns</p>\n",
       "</div>"
      ],
      "text/plain": [
       "     Unnamed: 0   Loan_ID  Gender Married Dependents     Education  \\\n",
       "1             1  LP001003    Male     Yes          1      Graduate   \n",
       "2             2  LP001005    Male     Yes          0      Graduate   \n",
       "3             3  LP001006    Male     Yes          0  Not Graduate   \n",
       "4             4  LP001008    Male      No          0      Graduate   \n",
       "5             5  LP001011    Male     Yes          2      Graduate   \n",
       "..          ...       ...     ...     ...        ...           ...   \n",
       "615         609  LP002978  Female      No          0      Graduate   \n",
       "616         610  LP002979    Male     Yes          3      Graduate   \n",
       "617         611  LP002983    Male     Yes          1      Graduate   \n",
       "618         612  LP002984    Male     Yes          2      Graduate   \n",
       "619         613  LP002990  Female      No          0      Graduate   \n",
       "\n",
       "    Self_Employed  ApplicantIncome  CoapplicantIncome  LoanAmount  \\\n",
       "1              No            45830            15080.0   1280000.0   \n",
       "2             Yes            30000                0.0    660000.0   \n",
       "3              No            25830            23580.0   1200000.0   \n",
       "4              No            60000                0.0   1410000.0   \n",
       "5             Yes            54170            41960.0   2670000.0   \n",
       "..            ...              ...                ...         ...   \n",
       "615            No            29000                0.0    710000.0   \n",
       "616            No            41060                0.0    400000.0   \n",
       "617            No            80720             2400.0   2530000.0   \n",
       "618            No            75830                0.0   1870000.0   \n",
       "619           Yes            45830                0.0   1330000.0   \n",
       "\n",
       "     Loan_Amount_Term  Credit_History Property_Area Loan_Status  \n",
       "1               360.0             1.0         Rural           N  \n",
       "2               360.0             1.0         Urban           Y  \n",
       "3               360.0             1.0         Urban           Y  \n",
       "4               360.0             1.0         Urban           Y  \n",
       "5               360.0             1.0         Urban           Y  \n",
       "..                ...             ...           ...         ...  \n",
       "615             360.0             1.0         Rural           Y  \n",
       "616             180.0             1.0         Rural           Y  \n",
       "617             360.0             1.0         Urban           Y  \n",
       "618             360.0             1.0         Urban           Y  \n",
       "619             360.0             0.0     Semiurban           N  \n",
       "\n",
       "[578 rows x 14 columns]"
      ]
     },
     "execution_count": 20,
     "metadata": {},
     "output_type": "execute_result"
    }
   ],
   "source": [
    "# Drop Null Values\n",
    "loan=loan_df.dropna()\n",
    "loan"
   ]
  },
  {
   "cell_type": "code",
   "execution_count": 21,
   "id": "ffecef5d",
   "metadata": {},
   "outputs": [
    {
     "data": {
      "text/plain": [
       "Unnamed: 0           0\n",
       "Loan_ID              0\n",
       "Gender               0\n",
       "Married              0\n",
       "Dependents           0\n",
       "Education            0\n",
       "Self_Employed        0\n",
       "ApplicantIncome      0\n",
       "CoapplicantIncome    0\n",
       "LoanAmount           0\n",
       "Loan_Amount_Term     0\n",
       "Credit_History       0\n",
       "Property_Area        0\n",
       "Loan_Status          0\n",
       "dtype: int64"
      ]
     },
     "execution_count": 21,
     "metadata": {},
     "output_type": "execute_result"
    }
   ],
   "source": [
    "loan.isna().sum()"
   ]
  },
  {
   "cell_type": "code",
   "execution_count": 22,
   "id": "90b0cf42",
   "metadata": {},
   "outputs": [
    {
     "data": {
      "text/plain": [
       "1      1.0\n",
       "2      1.0\n",
       "3      1.0\n",
       "4      1.0\n",
       "5      1.0\n",
       "      ... \n",
       "615    1.0\n",
       "616    1.0\n",
       "617    1.0\n",
       "618    1.0\n",
       "619    0.0\n",
       "Name: Credit_History, Length: 578, dtype: float64"
      ]
     },
     "execution_count": 22,
     "metadata": {},
     "output_type": "execute_result"
    }
   ],
   "source": [
    "loan.Credit_History.astype(float)"
   ]
  },
  {
   "cell_type": "markdown",
   "id": "9f877dc6",
   "metadata": {},
   "source": [
    "# Exploratory Data Analysis"
   ]
  },
  {
   "cell_type": "code",
   "execution_count": 108,
   "id": "be9d6ca9",
   "metadata": {},
   "outputs": [
    {
     "data": {
      "text/plain": [
       "<AxesSubplot:>"
      ]
     },
     "execution_count": 108,
     "metadata": {},
     "output_type": "execute_result"
    },
    {
     "data": {
      "image/png": "[encoded data removed]",
      "text/plain": [
       "<Figure size 864x720 with 2 Axes>"
      ]
     },
     "metadata": {
      "needs_background": "light"
     },
     "output_type": "display_data"
    }
   ],
   "source": [
    "plt.figure(figsize=(12,10))\n",
    "sns.heatmap(loan.corr(), annot=True)"
   ]
  },
  {
   "cell_type": "code",
   "execution_count": null,
   "id": "01b240f8",
   "metadata": {},
   "outputs": [],
   "source": [
    "# Univariate Analysis"
   ]
  },
  {
   "cell_type": "code",
   "execution_count": 112,
   "id": "bbfe032d",
   "metadata": {},
   "outputs": [
    {
     "data": {
      "text/plain": [
       "<AxesSubplot:xlabel='Loan_Status', ylabel='count'>"
      ]
     },
     "execution_count": 112,
     "metadata": {},
     "output_type": "execute_result"
    },
    {
     "data": {
      "image/png": "[encoded data removed]",
      "text/plain": [
       "<Figure size 432x288 with 1 Axes>"
      ]
     },
     "metadata": {
      "needs_background": "light"
     },
     "output_type": "display_data"
    }
   ],
   "source": [
    "sns.countplot(data=loan,x='Loan_Status')"
   ]
  },
  {
   "cell_type": "code",
   "execution_count": 117,
   "id": "eecd2d53",
   "metadata": {},
   "outputs": [
    {
     "data": {
      "text/plain": [
       "<AxesSubplot:xlabel='Self_Employed', ylabel='count'>"
      ]
     },
     "execution_count": 117,
     "metadata": {},
     "output_type": "execute_result"
    },
    {
     "data": {
      "image/png": "[encoded data removed]",
      "text/plain": [
       "<Figure size 432x288 with 1 Axes>"
      ]
     },
     "metadata": {
      "needs_background": "light"
     },
     "output_type": "display_data"
    }
   ],
   "source": [
    "# Count of selfd employed\n",
    "# applicannt who are not self employed has the highest number of loan application submitted\n",
    "sns.countplot(data=loan, x='Self_Employed',palette='husl')"
   ]
  },
  {
   "cell_type": "code",
   "execution_count": 121,
   "id": "e66df863",
   "metadata": {},
   "outputs": [
    {
     "data": {
      "text/plain": [
       "<AxesSubplot:xlabel='Gender', ylabel='count'>"
      ]
     },
     "execution_count": 121,
     "metadata": {},
     "output_type": "execute_result"
    },
    {
     "data": {
      "image/png": "[encoded data removed]",
      "text/plain": [
       "<Figure size 432x288 with 1 Axes>"
      ]
     },
     "metadata": {
      "needs_background": "light"
     },
     "output_type": "display_data"
    }
   ],
   "source": [
    "# Count of Gender\n",
    "# More Male Gender applied for loan\n",
    "sns.countplot(data=loan, x='Gender', palette='GnBu_r')"
   ]
  },
  {
   "cell_type": "code",
   "execution_count": null,
   "id": "18375450",
   "metadata": {},
   "outputs": [],
   "source": [
    "# Bi-Variate Analysis"
   ]
  },
  {
   "cell_type": "code",
   "execution_count": 126,
   "id": "27fed880",
   "metadata": {},
   "outputs": [
    {
     "data": {
      "text/plain": [
       "<AxesSubplot:xlabel='Gender', ylabel='LoanAmount'>"
      ]
     },
     "execution_count": 126,
     "metadata": {},
     "output_type": "execute_result"
    },
    {
     "data": {
      "image/png": "[encoded data removed]",
      "text/plain": [
       "<Figure size 720x432 with 1 Axes>"
      ]
     },
     "metadata": {
      "needs_background": "light"
     },
     "output_type": "display_data"
    }
   ],
   "source": [
    "# loan status of gender based on Loan amount\n",
    "plt.figure(figsize=(10,6))\n",
    "sns.barplot(data=loan, x='Gender',y='LoanAmount',hue='Loan_Status')\n",
    "# male applicants has the highest number of loan approval compared to the females"
   ]
  },
  {
   "cell_type": "code",
   "execution_count": 131,
   "id": "da8ef645",
   "metadata": {},
   "outputs": [
    {
     "data": {
      "text/plain": [
       "<AxesSubplot:xlabel='Married', ylabel='LoanAmount'>"
      ]
     },
     "execution_count": 131,
     "metadata": {},
     "output_type": "execute_result"
    },
    {
     "data": {
      "image/png": "[encoded data removed]",
      "text/plain": [
       "<Figure size 432x288 with 1 Axes>"
      ]
     },
     "metadata": {
      "needs_background": "light"
     },
     "output_type": "display_data"
    }
   ],
   "source": [
    "# Loan status of Married Couples per Loan amount\n",
    "# Married couples has high percentage of getting their loan approved\n",
    "sns.barplot(data=loan, x='Married',y='LoanAmount', hue='Loan_Status')"
   ]
  },
  {
   "cell_type": "code",
   "execution_count": 132,
   "id": "c319bafb",
   "metadata": {},
   "outputs": [
    {
     "data": {
      "text/plain": [
       "<AxesSubplot:xlabel='Married', ylabel='ApplicantIncome'>"
      ]
     },
     "execution_count": 132,
     "metadata": {},
     "output_type": "execute_result"
    },
    {
     "data": {
      "image/png": "[encoded data removed]",
      "text/plain": [
       "<Figure size 432x288 with 1 Axes>"
      ]
     },
     "metadata": {
      "needs_background": "light"
     },
     "output_type": "display_data"
    }
   ],
   "source": [
    "# Loan status of Married Couples per Applicant Income\n",
    "# Married couples has high percentage of getting their loan approved based on their income\n",
    "sns.barplot(data=loan, x='Married',y='ApplicantIncome', hue='Loan_Status')"
   ]
  },
  {
   "cell_type": "code",
   "execution_count": 135,
   "id": "d89d91b7",
   "metadata": {},
   "outputs": [
    {
     "data": {
      "text/plain": [
       "<AxesSubplot:xlabel='ApplicantIncome', ylabel='LoanAmount'>"
      ]
     },
     "execution_count": 135,
     "metadata": {},
     "output_type": "execute_result"
    },
    {
     "data": {
      "image/png": "[encoded data removed]",
      "text/plain": [
       "<Figure size 720x432 with 1 Axes>"
      ]
     },
     "metadata": {
      "needs_background": "light"
     },
     "output_type": "display_data"
    }
   ],
   "source": [
    "# Loan Statuys of Applicant income against loan amount\n",
    "plt.figure(figsize=(10,6))\n",
    "sns.scatterplot(data=loan, x=\"ApplicantIncome\",y=\"LoanAmount\",hue=\"Loan_Status\")"
   ]
  },
  {
   "cell_type": "code",
   "execution_count": 109,
   "id": "9ed5d5f6",
   "metadata": {},
   "outputs": [
    {
     "data": {
      "text/plain": [
       "Index(['Unnamed: 0', 'Loan_ID', 'Gender', 'Married', 'Dependents', 'Education',\n",
       "       'Self_Employed', 'ApplicantIncome', 'CoapplicantIncome', 'LoanAmount',\n",
       "       'Loan_Amount_Term', 'Credit_History', 'Property_Area', 'Loan_Status'],\n",
       "      dtype='object')"
      ]
     },
     "execution_count": 109,
     "metadata": {},
     "output_type": "execute_result"
    }
   ],
   "source": [
    "loan.columns"
   ]
  },
  {
   "cell_type": "code",
   "execution_count": 136,
   "id": "a2466687",
   "metadata": {},
   "outputs": [
    {
     "data": {
      "image/png": "[encoded data removed]",
      "text/plain": [
       "<Figure size 864x864 with 16 Axes>"
      ]
     },
     "metadata": {
      "needs_background": "light"
     },
     "output_type": "display_data"
    }
   ],
   "source": [
    "# checking for outier\n",
    "loan.plot(kind='box', subplots=True, layout=(4,4), fontsize=8,figsize=(12,12));"
   ]
  },
  {
   "cell_type": "code",
   "execution_count": 24,
   "id": "4198b901",
   "metadata": {},
   "outputs": [],
   "source": [
    "loan.drop(['Unnamed: 0'],axis=1,inplace=True)"
   ]
  },
  {
   "cell_type": "markdown",
   "id": "371af405",
   "metadata": {},
   "source": [
    "# seperating categorical variable fron Numerical cvariable"
   ]
  },
  {
   "cell_type": "code",
   "execution_count": 25,
   "id": "ca249b7a",
   "metadata": {},
   "outputs": [
    {
     "data": {
      "text/html": [
       "<div>\n",
       "<style scoped>\n",
       "    .dataframe tbody tr th:only-of-type {\n",
       "        vertical-align: middle;\n",
       "    }\n",
       "\n",
       "    .dataframe tbody tr th {\n",
       "        vertical-align: top;\n",
       "    }\n",
       "\n",
       "    .dataframe thead th {\n",
       "        text-align: right;\n",
       "    }\n",
       "</style>\n",
       "<table border=\"1\" class=\"dataframe\">\n",
       "  <thead>\n",
       "    <tr style=\"text-align: right;\">\n",
       "      <th></th>\n",
       "      <th>Loan_ID</th>\n",
       "      <th>Gender</th>\n",
       "      <th>Married</th>\n",
       "      <th>Dependents</th>\n",
       "      <th>Education</th>\n",
       "      <th>Self_Employed</th>\n",
       "      <th>ApplicantIncome</th>\n",
       "      <th>CoapplicantIncome</th>\n",
       "      <th>LoanAmount</th>\n",
       "      <th>Loan_Amount_Term</th>\n",
       "      <th>Credit_History</th>\n",
       "      <th>Property_Area</th>\n",
       "      <th>Loan_Status</th>\n",
       "    </tr>\n",
       "  </thead>\n",
       "  <tbody>\n",
       "    <tr>\n",
       "      <th>1</th>\n",
       "      <td>LP001003</td>\n",
       "      <td>Male</td>\n",
       "      <td>Yes</td>\n",
       "      <td>1</td>\n",
       "      <td>Graduate</td>\n",
       "      <td>No</td>\n",
       "      <td>45830</td>\n",
       "      <td>15080.0</td>\n",
       "      <td>1280000.0</td>\n",
       "      <td>360.0</td>\n",
       "      <td>1.0</td>\n",
       "      <td>Rural</td>\n",
       "      <td>N</td>\n",
       "    </tr>\n",
       "    <tr>\n",
       "      <th>2</th>\n",
       "      <td>LP001005</td>\n",
       "      <td>Male</td>\n",
       "      <td>Yes</td>\n",
       "      <td>0</td>\n",
       "      <td>Graduate</td>\n",
       "      <td>Yes</td>\n",
       "      <td>30000</td>\n",
       "      <td>0.0</td>\n",
       "      <td>660000.0</td>\n",
       "      <td>360.0</td>\n",
       "      <td>1.0</td>\n",
       "      <td>Urban</td>\n",
       "      <td>Y</td>\n",
       "    </tr>\n",
       "    <tr>\n",
       "      <th>3</th>\n",
       "      <td>LP001006</td>\n",
       "      <td>Male</td>\n",
       "      <td>Yes</td>\n",
       "      <td>0</td>\n",
       "      <td>Not Graduate</td>\n",
       "      <td>No</td>\n",
       "      <td>25830</td>\n",
       "      <td>23580.0</td>\n",
       "      <td>1200000.0</td>\n",
       "      <td>360.0</td>\n",
       "      <td>1.0</td>\n",
       "      <td>Urban</td>\n",
       "      <td>Y</td>\n",
       "    </tr>\n",
       "    <tr>\n",
       "      <th>4</th>\n",
       "      <td>LP001008</td>\n",
       "      <td>Male</td>\n",
       "      <td>No</td>\n",
       "      <td>0</td>\n",
       "      <td>Graduate</td>\n",
       "      <td>No</td>\n",
       "      <td>60000</td>\n",
       "      <td>0.0</td>\n",
       "      <td>1410000.0</td>\n",
       "      <td>360.0</td>\n",
       "      <td>1.0</td>\n",
       "      <td>Urban</td>\n",
       "      <td>Y</td>\n",
       "    </tr>\n",
       "    <tr>\n",
       "      <th>5</th>\n",
       "      <td>LP001011</td>\n",
       "      <td>Male</td>\n",
       "      <td>Yes</td>\n",
       "      <td>2</td>\n",
       "      <td>Graduate</td>\n",
       "      <td>Yes</td>\n",
       "      <td>54170</td>\n",
       "      <td>41960.0</td>\n",
       "      <td>2670000.0</td>\n",
       "      <td>360.0</td>\n",
       "      <td>1.0</td>\n",
       "      <td>Urban</td>\n",
       "      <td>Y</td>\n",
       "    </tr>\n",
       "    <tr>\n",
       "      <th>...</th>\n",
       "      <td>...</td>\n",
       "      <td>...</td>\n",
       "      <td>...</td>\n",
       "      <td>...</td>\n",
       "      <td>...</td>\n",
       "      <td>...</td>\n",
       "      <td>...</td>\n",
       "      <td>...</td>\n",
       "      <td>...</td>\n",
       "      <td>...</td>\n",
       "      <td>...</td>\n",
       "      <td>...</td>\n",
       "      <td>...</td>\n",
       "    </tr>\n",
       "    <tr>\n",
       "      <th>615</th>\n",
       "      <td>LP002978</td>\n",
       "      <td>Female</td>\n",
       "      <td>No</td>\n",
       "      <td>0</td>\n",
       "      <td>Graduate</td>\n",
       "      <td>No</td>\n",
       "      <td>29000</td>\n",
       "      <td>0.0</td>\n",
       "      <td>710000.0</td>\n",
       "      <td>360.0</td>\n",
       "      <td>1.0</td>\n",
       "      <td>Rural</td>\n",
       "      <td>Y</td>\n",
       "    </tr>\n",
       "    <tr>\n",
       "      <th>616</th>\n",
       "      <td>LP002979</td>\n",
       "      <td>Male</td>\n",
       "      <td>Yes</td>\n",
       "      <td>3</td>\n",
       "      <td>Graduate</td>\n",
       "      <td>No</td>\n",
       "      <td>41060</td>\n",
       "      <td>0.0</td>\n",
       "      <td>400000.0</td>\n",
       "      <td>180.0</td>\n",
       "      <td>1.0</td>\n",
       "      <td>Rural</td>\n",
       "      <td>Y</td>\n",
       "    </tr>\n",
       "    <tr>\n",
       "      <th>617</th>\n",
       "      <td>LP002983</td>\n",
       "      <td>Male</td>\n",
       "      <td>Yes</td>\n",
       "      <td>1</td>\n",
       "      <td>Graduate</td>\n",
       "      <td>No</td>\n",
       "      <td>80720</td>\n",
       "      <td>2400.0</td>\n",
       "      <td>2530000.0</td>\n",
       "      <td>360.0</td>\n",
       "      <td>1.0</td>\n",
       "      <td>Urban</td>\n",
       "      <td>Y</td>\n",
       "    </tr>\n",
       "    <tr>\n",
       "      <th>618</th>\n",
       "      <td>LP002984</td>\n",
       "      <td>Male</td>\n",
       "      <td>Yes</td>\n",
       "      <td>2</td>\n",
       "      <td>Graduate</td>\n",
       "      <td>No</td>\n",
       "      <td>75830</td>\n",
       "      <td>0.0</td>\n",
       "      <td>1870000.0</td>\n",
       "      <td>360.0</td>\n",
       "      <td>1.0</td>\n",
       "      <td>Urban</td>\n",
       "      <td>Y</td>\n",
       "    </tr>\n",
       "    <tr>\n",
       "      <th>619</th>\n",
       "      <td>LP002990</td>\n",
       "      <td>Female</td>\n",
       "      <td>No</td>\n",
       "      <td>0</td>\n",
       "      <td>Graduate</td>\n",
       "      <td>Yes</td>\n",
       "      <td>45830</td>\n",
       "      <td>0.0</td>\n",
       "      <td>1330000.0</td>\n",
       "      <td>360.0</td>\n",
       "      <td>0.0</td>\n",
       "      <td>Semiurban</td>\n",
       "      <td>N</td>\n",
       "    </tr>\n",
       "  </tbody>\n",
       "</table>\n",
       "<p>578 rows × 13 columns</p>\n",
       "</div>"
      ],
      "text/plain": [
       "      Loan_ID  Gender Married Dependents     Education Self_Employed  \\\n",
       "1    LP001003    Male     Yes          1      Graduate            No   \n",
       "2    LP001005    Male     Yes          0      Graduate           Yes   \n",
       "3    LP001006    Male     Yes          0  Not Graduate            No   \n",
       "4    LP001008    Male      No          0      Graduate            No   \n",
       "5    LP001011    Male     Yes          2      Graduate           Yes   \n",
       "..        ...     ...     ...        ...           ...           ...   \n",
       "615  LP002978  Female      No          0      Graduate            No   \n",
       "616  LP002979    Male     Yes          3      Graduate            No   \n",
       "617  LP002983    Male     Yes          1      Graduate            No   \n",
       "618  LP002984    Male     Yes          2      Graduate            No   \n",
       "619  LP002990  Female      No          0      Graduate           Yes   \n",
       "\n",
       "     ApplicantIncome  CoapplicantIncome  LoanAmount  Loan_Amount_Term  \\\n",
       "1              45830            15080.0   1280000.0             360.0   \n",
       "2              30000                0.0    660000.0             360.0   \n",
       "3              25830            23580.0   1200000.0             360.0   \n",
       "4              60000                0.0   1410000.0             360.0   \n",
       "5              54170            41960.0   2670000.0             360.0   \n",
       "..               ...                ...         ...               ...   \n",
       "615            29000                0.0    710000.0             360.0   \n",
       "616            41060                0.0    400000.0             180.0   \n",
       "617            80720             2400.0   2530000.0             360.0   \n",
       "618            75830                0.0   1870000.0             360.0   \n",
       "619            45830                0.0   1330000.0             360.0   \n",
       "\n",
       "     Credit_History Property_Area Loan_Status  \n",
       "1               1.0         Rural           N  \n",
       "2               1.0         Urban           Y  \n",
       "3               1.0         Urban           Y  \n",
       "4               1.0         Urban           Y  \n",
       "5               1.0         Urban           Y  \n",
       "..              ...           ...         ...  \n",
       "615             1.0         Rural           Y  \n",
       "616             1.0         Rural           Y  \n",
       "617             1.0         Urban           Y  \n",
       "618             1.0         Urban           Y  \n",
       "619             0.0     Semiurban           N  \n",
       "\n",
       "[578 rows x 13 columns]"
      ]
     },
     "execution_count": 25,
     "metadata": {},
     "output_type": "execute_result"
    }
   ],
   "source": [
    "loan"
   ]
  },
  {
   "cell_type": "code",
   "execution_count": 26,
   "id": "0654c996",
   "metadata": {},
   "outputs": [],
   "source": [
    "numerical_var=loan.select_dtypes(include=[np.number])\n",
    "categorical_var=loan.select_dtypes(exclude=[np.number])"
   ]
  },
  {
   "cell_type": "code",
   "execution_count": 27,
   "id": "ffea21ce",
   "metadata": {},
   "outputs": [],
   "source": [
    "categorical_var.drop(['Loan_ID'],axis=1,inplace=True)"
   ]
  },
  {
   "cell_type": "code",
   "execution_count": 28,
   "id": "ac67b620",
   "metadata": {},
   "outputs": [
    {
     "data": {
      "text/html": [
       "<div>\n",
       "<style scoped>\n",
       "    .dataframe tbody tr th:only-of-type {\n",
       "        vertical-align: middle;\n",
       "    }\n",
       "\n",
       "    .dataframe tbody tr th {\n",
       "        vertical-align: top;\n",
       "    }\n",
       "\n",
       "    .dataframe thead th {\n",
       "        text-align: right;\n",
       "    }\n",
       "</style>\n",
       "<table border=\"1\" class=\"dataframe\">\n",
       "  <thead>\n",
       "    <tr style=\"text-align: right;\">\n",
       "      <th></th>\n",
       "      <th>Gender</th>\n",
       "      <th>Married</th>\n",
       "      <th>Dependents</th>\n",
       "      <th>Education</th>\n",
       "      <th>Self_Employed</th>\n",
       "      <th>Property_Area</th>\n",
       "      <th>Loan_Status</th>\n",
       "    </tr>\n",
       "  </thead>\n",
       "  <tbody>\n",
       "    <tr>\n",
       "      <th>1</th>\n",
       "      <td>Male</td>\n",
       "      <td>Yes</td>\n",
       "      <td>1</td>\n",
       "      <td>Graduate</td>\n",
       "      <td>No</td>\n",
       "      <td>Rural</td>\n",
       "      <td>N</td>\n",
       "    </tr>\n",
       "    <tr>\n",
       "      <th>2</th>\n",
       "      <td>Male</td>\n",
       "      <td>Yes</td>\n",
       "      <td>0</td>\n",
       "      <td>Graduate</td>\n",
       "      <td>Yes</td>\n",
       "      <td>Urban</td>\n",
       "      <td>Y</td>\n",
       "    </tr>\n",
       "    <tr>\n",
       "      <th>3</th>\n",
       "      <td>Male</td>\n",
       "      <td>Yes</td>\n",
       "      <td>0</td>\n",
       "      <td>Not Graduate</td>\n",
       "      <td>No</td>\n",
       "      <td>Urban</td>\n",
       "      <td>Y</td>\n",
       "    </tr>\n",
       "    <tr>\n",
       "      <th>4</th>\n",
       "      <td>Male</td>\n",
       "      <td>No</td>\n",
       "      <td>0</td>\n",
       "      <td>Graduate</td>\n",
       "      <td>No</td>\n",
       "      <td>Urban</td>\n",
       "      <td>Y</td>\n",
       "    </tr>\n",
       "    <tr>\n",
       "      <th>5</th>\n",
       "      <td>Male</td>\n",
       "      <td>Yes</td>\n",
       "      <td>2</td>\n",
       "      <td>Graduate</td>\n",
       "      <td>Yes</td>\n",
       "      <td>Urban</td>\n",
       "      <td>Y</td>\n",
       "    </tr>\n",
       "    <tr>\n",
       "      <th>...</th>\n",
       "      <td>...</td>\n",
       "      <td>...</td>\n",
       "      <td>...</td>\n",
       "      <td>...</td>\n",
       "      <td>...</td>\n",
       "      <td>...</td>\n",
       "      <td>...</td>\n",
       "    </tr>\n",
       "    <tr>\n",
       "      <th>615</th>\n",
       "      <td>Female</td>\n",
       "      <td>No</td>\n",
       "      <td>0</td>\n",
       "      <td>Graduate</td>\n",
       "      <td>No</td>\n",
       "      <td>Rural</td>\n",
       "      <td>Y</td>\n",
       "    </tr>\n",
       "    <tr>\n",
       "      <th>616</th>\n",
       "      <td>Male</td>\n",
       "      <td>Yes</td>\n",
       "      <td>3</td>\n",
       "      <td>Graduate</td>\n",
       "      <td>No</td>\n",
       "      <td>Rural</td>\n",
       "      <td>Y</td>\n",
       "    </tr>\n",
       "    <tr>\n",
       "      <th>617</th>\n",
       "      <td>Male</td>\n",
       "      <td>Yes</td>\n",
       "      <td>1</td>\n",
       "      <td>Graduate</td>\n",
       "      <td>No</td>\n",
       "      <td>Urban</td>\n",
       "      <td>Y</td>\n",
       "    </tr>\n",
       "    <tr>\n",
       "      <th>618</th>\n",
       "      <td>Male</td>\n",
       "      <td>Yes</td>\n",
       "      <td>2</td>\n",
       "      <td>Graduate</td>\n",
       "      <td>No</td>\n",
       "      <td>Urban</td>\n",
       "      <td>Y</td>\n",
       "    </tr>\n",
       "    <tr>\n",
       "      <th>619</th>\n",
       "      <td>Female</td>\n",
       "      <td>No</td>\n",
       "      <td>0</td>\n",
       "      <td>Graduate</td>\n",
       "      <td>Yes</td>\n",
       "      <td>Semiurban</td>\n",
       "      <td>N</td>\n",
       "    </tr>\n",
       "  </tbody>\n",
       "</table>\n",
       "<p>578 rows × 7 columns</p>\n",
       "</div>"
      ],
      "text/plain": [
       "     Gender Married Dependents     Education Self_Employed Property_Area  \\\n",
       "1      Male     Yes          1      Graduate            No         Rural   \n",
       "2      Male     Yes          0      Graduate           Yes         Urban   \n",
       "3      Male     Yes          0  Not Graduate            No         Urban   \n",
       "4      Male      No          0      Graduate            No         Urban   \n",
       "5      Male     Yes          2      Graduate           Yes         Urban   \n",
       "..      ...     ...        ...           ...           ...           ...   \n",
       "615  Female      No          0      Graduate            No         Rural   \n",
       "616    Male     Yes          3      Graduate            No         Rural   \n",
       "617    Male     Yes          1      Graduate            No         Urban   \n",
       "618    Male     Yes          2      Graduate            No         Urban   \n",
       "619  Female      No          0      Graduate           Yes     Semiurban   \n",
       "\n",
       "    Loan_Status  \n",
       "1             N  \n",
       "2             Y  \n",
       "3             Y  \n",
       "4             Y  \n",
       "5             Y  \n",
       "..          ...  \n",
       "615           Y  \n",
       "616           Y  \n",
       "617           Y  \n",
       "618           Y  \n",
       "619           N  \n",
       "\n",
       "[578 rows x 7 columns]"
      ]
     },
     "execution_count": 28,
     "metadata": {},
     "output_type": "execute_result"
    }
   ],
   "source": [
    "categorical_var"
   ]
  },
  {
   "cell_type": "code",
   "execution_count": 29,
   "id": "11f9de10",
   "metadata": {},
   "outputs": [
    {
     "data": {
      "text/plain": [
       "Index(['Gender', 'Married', 'Dependents', 'Education', 'Self_Employed',\n",
       "       'Property_Area', 'Loan_Status'],\n",
       "      dtype='object')"
      ]
     },
     "execution_count": 29,
     "metadata": {},
     "output_type": "execute_result"
    }
   ],
   "source": [
    "categorical_var.columns"
   ]
  },
  {
   "cell_type": "code",
   "execution_count": 30,
   "id": "6e167690",
   "metadata": {},
   "outputs": [
    {
     "data": {
      "text/html": [
       "<div>\n",
       "<style scoped>\n",
       "    .dataframe tbody tr th:only-of-type {\n",
       "        vertical-align: middle;\n",
       "    }\n",
       "\n",
       "    .dataframe tbody tr th {\n",
       "        vertical-align: top;\n",
       "    }\n",
       "\n",
       "    .dataframe thead th {\n",
       "        text-align: right;\n",
       "    }\n",
       "</style>\n",
       "<table border=\"1\" class=\"dataframe\">\n",
       "  <thead>\n",
       "    <tr style=\"text-align: right;\">\n",
       "      <th></th>\n",
       "      <th>Gender</th>\n",
       "      <th>Married</th>\n",
       "      <th>Dependents</th>\n",
       "      <th>Education</th>\n",
       "      <th>Self_Employed</th>\n",
       "      <th>Property_Area</th>\n",
       "      <th>Loan_Status</th>\n",
       "    </tr>\n",
       "  </thead>\n",
       "  <tbody>\n",
       "    <tr>\n",
       "      <th>1</th>\n",
       "      <td>1</td>\n",
       "      <td>1</td>\n",
       "      <td>1</td>\n",
       "      <td>0</td>\n",
       "      <td>0</td>\n",
       "      <td>0</td>\n",
       "      <td>0</td>\n",
       "    </tr>\n",
       "    <tr>\n",
       "      <th>2</th>\n",
       "      <td>1</td>\n",
       "      <td>1</td>\n",
       "      <td>0</td>\n",
       "      <td>0</td>\n",
       "      <td>1</td>\n",
       "      <td>2</td>\n",
       "      <td>1</td>\n",
       "    </tr>\n",
       "    <tr>\n",
       "      <th>3</th>\n",
       "      <td>1</td>\n",
       "      <td>1</td>\n",
       "      <td>0</td>\n",
       "      <td>1</td>\n",
       "      <td>0</td>\n",
       "      <td>2</td>\n",
       "      <td>1</td>\n",
       "    </tr>\n",
       "    <tr>\n",
       "      <th>4</th>\n",
       "      <td>1</td>\n",
       "      <td>0</td>\n",
       "      <td>0</td>\n",
       "      <td>0</td>\n",
       "      <td>0</td>\n",
       "      <td>2</td>\n",
       "      <td>1</td>\n",
       "    </tr>\n",
       "    <tr>\n",
       "      <th>5</th>\n",
       "      <td>1</td>\n",
       "      <td>1</td>\n",
       "      <td>2</td>\n",
       "      <td>0</td>\n",
       "      <td>1</td>\n",
       "      <td>2</td>\n",
       "      <td>1</td>\n",
       "    </tr>\n",
       "    <tr>\n",
       "      <th>...</th>\n",
       "      <td>...</td>\n",
       "      <td>...</td>\n",
       "      <td>...</td>\n",
       "      <td>...</td>\n",
       "      <td>...</td>\n",
       "      <td>...</td>\n",
       "      <td>...</td>\n",
       "    </tr>\n",
       "    <tr>\n",
       "      <th>615</th>\n",
       "      <td>0</td>\n",
       "      <td>0</td>\n",
       "      <td>0</td>\n",
       "      <td>0</td>\n",
       "      <td>0</td>\n",
       "      <td>0</td>\n",
       "      <td>1</td>\n",
       "    </tr>\n",
       "    <tr>\n",
       "      <th>616</th>\n",
       "      <td>1</td>\n",
       "      <td>1</td>\n",
       "      <td>3</td>\n",
       "      <td>0</td>\n",
       "      <td>0</td>\n",
       "      <td>0</td>\n",
       "      <td>1</td>\n",
       "    </tr>\n",
       "    <tr>\n",
       "      <th>617</th>\n",
       "      <td>1</td>\n",
       "      <td>1</td>\n",
       "      <td>1</td>\n",
       "      <td>0</td>\n",
       "      <td>0</td>\n",
       "      <td>2</td>\n",
       "      <td>1</td>\n",
       "    </tr>\n",
       "    <tr>\n",
       "      <th>618</th>\n",
       "      <td>1</td>\n",
       "      <td>1</td>\n",
       "      <td>2</td>\n",
       "      <td>0</td>\n",
       "      <td>0</td>\n",
       "      <td>2</td>\n",
       "      <td>1</td>\n",
       "    </tr>\n",
       "    <tr>\n",
       "      <th>619</th>\n",
       "      <td>0</td>\n",
       "      <td>0</td>\n",
       "      <td>0</td>\n",
       "      <td>0</td>\n",
       "      <td>1</td>\n",
       "      <td>1</td>\n",
       "      <td>0</td>\n",
       "    </tr>\n",
       "  </tbody>\n",
       "</table>\n",
       "<p>578 rows × 7 columns</p>\n",
       "</div>"
      ],
      "text/plain": [
       "     Gender  Married  Dependents  Education  Self_Employed  Property_Area  \\\n",
       "1         1        1           1          0              0              0   \n",
       "2         1        1           0          0              1              2   \n",
       "3         1        1           0          1              0              2   \n",
       "4         1        0           0          0              0              2   \n",
       "5         1        1           2          0              1              2   \n",
       "..      ...      ...         ...        ...            ...            ...   \n",
       "615       0        0           0          0              0              0   \n",
       "616       1        1           3          0              0              0   \n",
       "617       1        1           1          0              0              2   \n",
       "618       1        1           2          0              0              2   \n",
       "619       0        0           0          0              1              1   \n",
       "\n",
       "     Loan_Status  \n",
       "1              0  \n",
       "2              1  \n",
       "3              1  \n",
       "4              1  \n",
       "5              1  \n",
       "..           ...  \n",
       "615            1  \n",
       "616            1  \n",
       "617            1  \n",
       "618            1  \n",
       "619            0  \n",
       "\n",
       "[578 rows x 7 columns]"
      ]
     },
     "execution_count": 30,
     "metadata": {},
     "output_type": "execute_result"
    }
   ],
   "source": [
    "#data transformation \n",
    "from sklearn.preprocessing import LabelEncoder\n",
    "le=LabelEncoder()\n",
    "categorical_var.loc[:,['Gender', 'Married', 'Dependents', 'Education', 'Self_Employed',\n",
    "       'Property_Area', 'Loan_Status']]=categorical_var.loc[:,['Gender', 'Married', 'Dependents', 'Education', 'Self_Employed',\n",
    "       'Property_Area', 'Loan_Status']].apply(le.fit_transform)\n",
    "categorical_var\n"
   ]
  },
  {
   "cell_type": "code",
   "execution_count": 31,
   "id": "6255ad9d",
   "metadata": {},
   "outputs": [
    {
     "data": {
      "text/html": [
       "<div>\n",
       "<style scoped>\n",
       "    .dataframe tbody tr th:only-of-type {\n",
       "        vertical-align: middle;\n",
       "    }\n",
       "\n",
       "    .dataframe tbody tr th {\n",
       "        vertical-align: top;\n",
       "    }\n",
       "\n",
       "    .dataframe thead th {\n",
       "        text-align: right;\n",
       "    }\n",
       "</style>\n",
       "<table border=\"1\" class=\"dataframe\">\n",
       "  <thead>\n",
       "    <tr style=\"text-align: right;\">\n",
       "      <th></th>\n",
       "      <th>ApplicantIncome</th>\n",
       "      <th>CoapplicantIncome</th>\n",
       "      <th>LoanAmount</th>\n",
       "      <th>Loan_Amount_Term</th>\n",
       "      <th>Credit_History</th>\n",
       "      <th>Gender</th>\n",
       "      <th>Married</th>\n",
       "      <th>Dependents</th>\n",
       "      <th>Education</th>\n",
       "      <th>Self_Employed</th>\n",
       "      <th>Property_Area</th>\n",
       "      <th>Loan_Status</th>\n",
       "    </tr>\n",
       "  </thead>\n",
       "  <tbody>\n",
       "    <tr>\n",
       "      <th>1</th>\n",
       "      <td>45830</td>\n",
       "      <td>15080.0</td>\n",
       "      <td>1280000.0</td>\n",
       "      <td>360.0</td>\n",
       "      <td>1.0</td>\n",
       "      <td>1</td>\n",
       "      <td>1</td>\n",
       "      <td>1</td>\n",
       "      <td>0</td>\n",
       "      <td>0</td>\n",
       "      <td>0</td>\n",
       "      <td>0</td>\n",
       "    </tr>\n",
       "    <tr>\n",
       "      <th>2</th>\n",
       "      <td>30000</td>\n",
       "      <td>0.0</td>\n",
       "      <td>660000.0</td>\n",
       "      <td>360.0</td>\n",
       "      <td>1.0</td>\n",
       "      <td>1</td>\n",
       "      <td>1</td>\n",
       "      <td>0</td>\n",
       "      <td>0</td>\n",
       "      <td>1</td>\n",
       "      <td>2</td>\n",
       "      <td>1</td>\n",
       "    </tr>\n",
       "    <tr>\n",
       "      <th>3</th>\n",
       "      <td>25830</td>\n",
       "      <td>23580.0</td>\n",
       "      <td>1200000.0</td>\n",
       "      <td>360.0</td>\n",
       "      <td>1.0</td>\n",
       "      <td>1</td>\n",
       "      <td>1</td>\n",
       "      <td>0</td>\n",
       "      <td>1</td>\n",
       "      <td>0</td>\n",
       "      <td>2</td>\n",
       "      <td>1</td>\n",
       "    </tr>\n",
       "    <tr>\n",
       "      <th>4</th>\n",
       "      <td>60000</td>\n",
       "      <td>0.0</td>\n",
       "      <td>1410000.0</td>\n",
       "      <td>360.0</td>\n",
       "      <td>1.0</td>\n",
       "      <td>1</td>\n",
       "      <td>0</td>\n",
       "      <td>0</td>\n",
       "      <td>0</td>\n",
       "      <td>0</td>\n",
       "      <td>2</td>\n",
       "      <td>1</td>\n",
       "    </tr>\n",
       "    <tr>\n",
       "      <th>5</th>\n",
       "      <td>54170</td>\n",
       "      <td>41960.0</td>\n",
       "      <td>2670000.0</td>\n",
       "      <td>360.0</td>\n",
       "      <td>1.0</td>\n",
       "      <td>1</td>\n",
       "      <td>1</td>\n",
       "      <td>2</td>\n",
       "      <td>0</td>\n",
       "      <td>1</td>\n",
       "      <td>2</td>\n",
       "      <td>1</td>\n",
       "    </tr>\n",
       "    <tr>\n",
       "      <th>...</th>\n",
       "      <td>...</td>\n",
       "      <td>...</td>\n",
       "      <td>...</td>\n",
       "      <td>...</td>\n",
       "      <td>...</td>\n",
       "      <td>...</td>\n",
       "      <td>...</td>\n",
       "      <td>...</td>\n",
       "      <td>...</td>\n",
       "      <td>...</td>\n",
       "      <td>...</td>\n",
       "      <td>...</td>\n",
       "    </tr>\n",
       "    <tr>\n",
       "      <th>615</th>\n",
       "      <td>29000</td>\n",
       "      <td>0.0</td>\n",
       "      <td>710000.0</td>\n",
       "      <td>360.0</td>\n",
       "      <td>1.0</td>\n",
       "      <td>0</td>\n",
       "      <td>0</td>\n",
       "      <td>0</td>\n",
       "      <td>0</td>\n",
       "      <td>0</td>\n",
       "      <td>0</td>\n",
       "      <td>1</td>\n",
       "    </tr>\n",
       "    <tr>\n",
       "      <th>616</th>\n",
       "      <td>41060</td>\n",
       "      <td>0.0</td>\n",
       "      <td>400000.0</td>\n",
       "      <td>180.0</td>\n",
       "      <td>1.0</td>\n",
       "      <td>1</td>\n",
       "      <td>1</td>\n",
       "      <td>3</td>\n",
       "      <td>0</td>\n",
       "      <td>0</td>\n",
       "      <td>0</td>\n",
       "      <td>1</td>\n",
       "    </tr>\n",
       "    <tr>\n",
       "      <th>617</th>\n",
       "      <td>80720</td>\n",
       "      <td>2400.0</td>\n",
       "      <td>2530000.0</td>\n",
       "      <td>360.0</td>\n",
       "      <td>1.0</td>\n",
       "      <td>1</td>\n",
       "      <td>1</td>\n",
       "      <td>1</td>\n",
       "      <td>0</td>\n",
       "      <td>0</td>\n",
       "      <td>2</td>\n",
       "      <td>1</td>\n",
       "    </tr>\n",
       "    <tr>\n",
       "      <th>618</th>\n",
       "      <td>75830</td>\n",
       "      <td>0.0</td>\n",
       "      <td>1870000.0</td>\n",
       "      <td>360.0</td>\n",
       "      <td>1.0</td>\n",
       "      <td>1</td>\n",
       "      <td>1</td>\n",
       "      <td>2</td>\n",
       "      <td>0</td>\n",
       "      <td>0</td>\n",
       "      <td>2</td>\n",
       "      <td>1</td>\n",
       "    </tr>\n",
       "    <tr>\n",
       "      <th>619</th>\n",
       "      <td>45830</td>\n",
       "      <td>0.0</td>\n",
       "      <td>1330000.0</td>\n",
       "      <td>360.0</td>\n",
       "      <td>0.0</td>\n",
       "      <td>0</td>\n",
       "      <td>0</td>\n",
       "      <td>0</td>\n",
       "      <td>0</td>\n",
       "      <td>1</td>\n",
       "      <td>1</td>\n",
       "      <td>0</td>\n",
       "    </tr>\n",
       "  </tbody>\n",
       "</table>\n",
       "<p>578 rows × 12 columns</p>\n",
       "</div>"
      ],
      "text/plain": [
       "     ApplicantIncome  CoapplicantIncome  LoanAmount  Loan_Amount_Term  \\\n",
       "1              45830            15080.0   1280000.0             360.0   \n",
       "2              30000                0.0    660000.0             360.0   \n",
       "3              25830            23580.0   1200000.0             360.0   \n",
       "4              60000                0.0   1410000.0             360.0   \n",
       "5              54170            41960.0   2670000.0             360.0   \n",
       "..               ...                ...         ...               ...   \n",
       "615            29000                0.0    710000.0             360.0   \n",
       "616            41060                0.0    400000.0             180.0   \n",
       "617            80720             2400.0   2530000.0             360.0   \n",
       "618            75830                0.0   1870000.0             360.0   \n",
       "619            45830                0.0   1330000.0             360.0   \n",
       "\n",
       "     Credit_History  Gender  Married  Dependents  Education  Self_Employed  \\\n",
       "1               1.0       1        1           1          0              0   \n",
       "2               1.0       1        1           0          0              1   \n",
       "3               1.0       1        1           0          1              0   \n",
       "4               1.0       1        0           0          0              0   \n",
       "5               1.0       1        1           2          0              1   \n",
       "..              ...     ...      ...         ...        ...            ...   \n",
       "615             1.0       0        0           0          0              0   \n",
       "616             1.0       1        1           3          0              0   \n",
       "617             1.0       1        1           1          0              0   \n",
       "618             1.0       1        1           2          0              0   \n",
       "619             0.0       0        0           0          0              1   \n",
       "\n",
       "     Property_Area  Loan_Status  \n",
       "1                0            0  \n",
       "2                2            1  \n",
       "3                2            1  \n",
       "4                2            1  \n",
       "5                2            1  \n",
       "..             ...          ...  \n",
       "615              0            1  \n",
       "616              0            1  \n",
       "617              2            1  \n",
       "618              2            1  \n",
       "619              1            0  \n",
       "\n",
       "[578 rows x 12 columns]"
      ]
     },
     "execution_count": 31,
     "metadata": {},
     "output_type": "execute_result"
    }
   ],
   "source": [
    "# joined bothy cat and num\n",
    "loan1=pd.concat([numerical_var,categorical_var],axis=1)\n",
    "loan1"
   ]
  },
  {
   "cell_type": "code",
   "execution_count": 176,
   "id": "eaab5995",
   "metadata": {
    "collapsed": true
   },
   "outputs": [
    {
     "data": {
      "text/plain": [
       "<Figure size 864x864 with 0 Axes>"
      ]
     },
     "metadata": {},
     "output_type": "display_data"
    },
    {
     "data": {
      "image/png": "[encoded data removed]",
      "text/plain": [
       "<Figure size 864x864 with 12 Axes>"
      ]
     },
     "metadata": {
      "needs_background": "light"
     },
     "output_type": "display_data"
    }
   ],
   "source": [
    "plt.figure(figsize=(12,12))\n",
    "standard_data.hist(figsize=(12,12));"
   ]
  },
  {
   "cell_type": "markdown",
   "id": "0a208611",
   "metadata": {},
   "source": [
    "# Data Modeling "
   ]
  },
  {
   "cell_type": "code",
   "execution_count": 37,
   "id": "8b265c81",
   "metadata": {},
   "outputs": [],
   "source": [
    "# Split data into x and y variable\n",
    "x=loan1.drop(['Loan_Status'],axis=1)\n",
    "y=loan1['Loan_Status']"
   ]
  },
  {
   "cell_type": "code",
   "execution_count": 38,
   "id": "827c6ee9",
   "metadata": {},
   "outputs": [],
   "source": [
    "# standardize the dataset\n",
    "sc=StandardScaler()\n",
    "dataset=sc.fit_transform(x)\n",
    "standard_data=pd.DataFrame(dataset,columns=x.columns)"
   ]
  },
  {
   "cell_type": "code",
   "execution_count": 50,
   "id": "130df445",
   "metadata": {},
   "outputs": [],
   "source": [
    "x=standard_data\n",
    "y=loan1['Loan_Status']"
   ]
  },
  {
   "cell_type": "code",
   "execution_count": 51,
   "id": "9ab768f3",
   "metadata": {},
   "outputs": [
    {
     "name": "stdout",
     "output_type": "stream",
     "text": [
      "(578, 11) (404, 11) (174, 11)\n",
      "(578,) (404,) (174,)\n"
     ]
    }
   ],
   "source": [
    "# Splitting data into train and test\n",
    "\n",
    "from sklearn.model_selection import train_test_split\n",
    "x_train,x_test,y_train,y_test=train_test_split(x,y, test_size=0.30,random_state=10)\n",
    "print(x.shape, x_train.shape, x_test.shape)\n",
    "print(y.shape, y_train.shape, y_test.shape)"
   ]
  },
  {
   "cell_type": "markdown",
   "id": "843dc84c",
   "metadata": {},
   "source": [
    "# Decision Tree Classifier"
   ]
  },
  {
   "cell_type": "code",
   "execution_count": 41,
   "id": "de92c625",
   "metadata": {},
   "outputs": [],
   "source": [
    "# Initialzing empty lists to append all model's name and corresponding name\n",
    "acc = []\n",
    "model = []"
   ]
  },
  {
   "cell_type": "code",
   "execution_count": 42,
   "id": "0424ea4c",
   "metadata": {},
   "outputs": [
    {
     "name": "stdout",
     "output_type": "stream",
     "text": [
      "DecisionTrees's Accuracy is:  78.16091954022988\n",
      "              precision    recall  f1-score   support\n",
      "\n",
      "           0       0.83      0.30      0.44        50\n",
      "           1       0.78      0.98      0.86       124\n",
      "\n",
      "    accuracy                           0.78       174\n",
      "   macro avg       0.80      0.64      0.65       174\n",
      "weighted avg       0.79      0.78      0.74       174\n",
      "\n"
     ]
    }
   ],
   "source": [
    "from sklearn.tree import DecisionTreeClassifier\n",
    "\n",
    "DecisionTree = DecisionTreeClassifier(criterion=\"entropy\",random_state=2,max_depth=5)\n",
    "\n",
    "DecisionTree.fit(x_train,y_train)\n",
    "\n",
    "predicted_values = DecisionTree.predict(x_test)\n",
    "x = metrics.accuracy_score(y_test, predicted_values)\n",
    "acc.append(x)\n",
    "model.append('Decision Tree')\n",
    "print(\"DecisionTrees's Accuracy is: \", x*100)\n",
    "\n",
    "print(classification_report(y_test,predicted_values))"
   ]
  },
  {
   "cell_type": "code",
   "execution_count": 184,
   "id": "9337c21f",
   "metadata": {},
   "outputs": [
    {
     "data": {
      "text/plain": [
       "Index(['ApplicantIncome', 'CoapplicantIncome', 'LoanAmount',\n",
       "       'Loan_Amount_Term', 'Credit_History', 'Gender', 'Married', 'Dependents',\n",
       "       'Education', 'Self_Employed', 'Property_Area'],\n",
       "      dtype='object')"
      ]
     },
     "execution_count": 184,
     "metadata": {},
     "output_type": "execute_result"
    }
   ],
   "source": [
    "standard_data.columns"
   ]
  },
  {
   "cell_type": "code",
   "execution_count": 43,
   "id": "70fb6e4c",
   "metadata": {},
   "outputs": [],
   "source": [
    "features = standard_data[['ApplicantIncome', 'CoapplicantIncome', 'LoanAmount',\n",
    "       'Loan_Amount_Term', 'Credit_History', 'Gender', 'Married', 'Dependents',\n",
    "       'Education', 'Self_Employed', 'Property_Area']]\n",
    "target = loan1['Loan_Status']\n",
    "#features = df[['temperature', 'humidity', 'ph', 'rainfall']]\n",
    "labels = loan1['Loan_Status']"
   ]
  },
  {
   "cell_type": "code",
   "execution_count": 44,
   "id": "7ca45447",
   "metadata": {},
   "outputs": [],
   "source": [
    "from sklearn.model_selection import cross_val_score\n",
    "# Cross validation score (Decision Tree)\n",
    "score = cross_val_score(DecisionTree, features, target,cv=5)"
   ]
  },
  {
   "cell_type": "code",
   "execution_count": 45,
   "id": "afc623a2",
   "metadata": {},
   "outputs": [
    {
     "data": {
      "text/plain": [
       "0.7785757121439281"
      ]
     },
     "execution_count": 45,
     "metadata": {},
     "output_type": "execute_result"
    }
   ],
   "source": [
    "score.mean()"
   ]
  },
  {
   "cell_type": "markdown",
   "id": "9e20d7f2",
   "metadata": {},
   "source": [
    "# Logistic Regression "
   ]
  },
  {
   "cell_type": "code",
   "execution_count": 63,
   "id": "b8d8e095",
   "metadata": {},
   "outputs": [
    {
     "name": "stdout",
     "output_type": "stream",
     "text": [
      "Logistic Regression's Accuracy is:  0.8045977011494253\n",
      "              precision    recall  f1-score   support\n",
      "\n",
      "           0       0.90      0.36      0.51        50\n",
      "           1       0.79      0.98      0.88       124\n",
      "\n",
      "    accuracy                           0.80       174\n",
      "   macro avg       0.85      0.67      0.70       174\n",
      "weighted avg       0.82      0.80      0.77       174\n",
      "\n"
     ]
    }
   ],
   "source": [
    "from sklearn.linear_model import LogisticRegression\n",
    "\n",
    "LogReg = LogisticRegression(random_state=2)\n",
    "\n",
    "LogReg.fit(x_train,y_train)\n",
    "\n",
    "predicted_values = LogReg.predict(x_test)\n",
    "\n",
    "x = metrics.accuracy_score(y_test, predicted_values)\n",
    "acc.append(x)\n",
    "model.append('Logistic Regression')\n",
    "print(\"Logistic Regression's Accuracy is: \", x)\n",
    "\n",
    "print(classification_report(y_test,predicted_values))"
   ]
  },
  {
   "cell_type": "code",
   "execution_count": 64,
   "id": "0357f716",
   "metadata": {},
   "outputs": [
    {
     "name": "stdout",
     "output_type": "stream",
     "text": [
      "Precision: 0.9838709677419355\n",
      "recall: 0.7922077922077922\n",
      "f1: 0.8776978417266188\n"
     ]
    }
   ],
   "source": [
    "from sklearn.metrics import precision_score, recall_score, f1_score\n",
    "prec=precision_score(predicted_values,y_test)\n",
    "rec= recall_score(predicted_values,y_test)\n",
    "f1= f1_score(predicted_values,y_test )\n",
    "print('Precision:', prec)\n",
    "print('recall:', rec)\n",
    "print('f1:',f1)"
   ]
  },
  {
   "cell_type": "code",
   "execution_count": 47,
   "id": "d503ae73",
   "metadata": {},
   "outputs": [
    {
     "data": {
      "text/plain": [
       "0.8080359820089955"
      ]
     },
     "execution_count": 47,
     "metadata": {},
     "output_type": "execute_result"
    }
   ],
   "source": [
    "# Cross validation score (Logistic Regression)\n",
    "score = cross_val_score(LogReg,features,target,cv=5)\n",
    "score.mean()"
   ]
  },
  {
   "cell_type": "code",
   "execution_count": 65,
   "id": "00e94387",
   "metadata": {},
   "outputs": [
    {
     "name": "stdout",
     "output_type": "stream",
     "text": [
      "SVM's Accuracy is:  0.8045977011494253\n",
      "              precision    recall  f1-score   support\n",
      "\n",
      "           0       0.90      0.36      0.51        50\n",
      "           1       0.79      0.98      0.88       124\n",
      "\n",
      "    accuracy                           0.80       174\n",
      "   macro avg       0.85      0.67      0.70       174\n",
      "weighted avg       0.82      0.80      0.77       174\n",
      "\n"
     ]
    }
   ],
   "source": [
    "from sklearn.svm import SVC\n",
    "# data normalization with sklearn\n",
    "from sklearn.preprocessing import MinMaxScaler\n",
    "# fit scaler on training data\n",
    "norm = MinMaxScaler().fit(x_train)\n",
    "x_train_norm = norm.transform(x_train)\n",
    "# transform testing dataabs\n",
    "x_test_norm = norm.transform(x_test)\n",
    "SVM = SVC(kernel='poly', degree=3, C=1)\n",
    "SVM.fit(x_train_norm,y_train)\n",
    "predicted_values = SVM.predict(x_test_norm)\n",
    "x = metrics.accuracy_score(y_test, predicted_values)\n",
    "acc.append(x)\n",
    "model.append('SVM')\n",
    "print(\"SVM's Accuracy is: \", x)\n",
    "\n",
    "print(classification_report(y_test,predicted_values))"
   ]
  },
  {
   "cell_type": "code",
   "execution_count": 66,
   "id": "87e2f054",
   "metadata": {},
   "outputs": [
    {
     "name": "stdout",
     "output_type": "stream",
     "text": [
      "Precision: 0.9838709677419355\n",
      "recall: 0.7922077922077922\n",
      "f1: 0.8776978417266188\n"
     ]
    }
   ],
   "source": [
    "from sklearn.metrics import precision_score, recall_score, f1_score\n",
    "prec=precision_score(predicted_values,y_test)\n",
    "rec= recall_score(predicted_values,y_test)\n",
    "f1= f1_score(predicted_values,y_test )\n",
    "print('Precision:', prec)\n",
    "print('recall:', rec)\n",
    "print('f1:',f1)"
   ]
  },
  {
   "cell_type": "code",
   "execution_count": 67,
   "id": "679ae379",
   "metadata": {},
   "outputs": [
    {
     "name": "stdout",
     "output_type": "stream",
     "text": [
      "RF's Accuracy is:  0.7816091954022989\n",
      "              precision    recall  f1-score   support\n",
      "\n",
      "           0       0.73      0.38      0.50        50\n",
      "           1       0.79      0.94      0.86       124\n",
      "\n",
      "    accuracy                           0.78       174\n",
      "   macro avg       0.76      0.66      0.68       174\n",
      "weighted avg       0.77      0.78      0.76       174\n",
      "\n"
     ]
    }
   ],
   "source": [
    "from sklearn.ensemble import RandomForestClassifier\n",
    "\n",
    "RF = RandomForestClassifier(n_estimators=20, random_state=10)\n",
    "RF.fit(x_train,y_train)\n",
    "\n",
    "predicted_values = RF.predict(x_test)\n",
    "\n",
    "x = metrics.accuracy_score(y_test, predicted_values)\n",
    "acc.append(x)\n",
    "model.append('RF')\n",
    "print(\"RF's Accuracy is: \", x)\n",
    "\n",
    "print(classification_report(y_test,predicted_values))"
   ]
  },
  {
   "cell_type": "code",
   "execution_count": 68,
   "id": "d799cda7",
   "metadata": {},
   "outputs": [
    {
     "name": "stdout",
     "output_type": "stream",
     "text": [
      "Precision: 0.9435483870967742\n",
      "recall: 0.7905405405405406\n",
      "f1: 0.8602941176470589\n"
     ]
    }
   ],
   "source": [
    "from sklearn.metrics import precision_score, recall_score, f1_score\n",
    "prec=precision_score(predicted_values,y_test)\n",
    "rec= recall_score(predicted_values,y_test)\n",
    "f1= f1_score(predicted_values,y_test )\n",
    "print('Precision:', prec)\n",
    "print('recall:', rec)\n",
    "print('f1:',f1)"
   ]
  },
  {
   "cell_type": "code",
   "execution_count": null,
   "id": "0256b25c",
   "metadata": {},
   "outputs": [],
   "source": []
  },
  {
   "cell_type": "code",
   "execution_count": null,
   "id": "5affcd85",
   "metadata": {},
   "outputs": [],
   "source": []
  },
  {
   "cell_type": "code",
   "execution_count": null,
   "id": "eda0773e",
   "metadata": {},
   "outputs": [],
   "source": []
  },
  {
   "cell_type": "code",
   "execution_count": null,
   "id": "1c4aea50",
   "metadata": {},
   "outputs": [],
   "source": []
  }
 ],
 "metadata": {
  "kernelspec": {
   "display_name": "Python 3",
   "language": "python",
   "name": "python3"
  },
  "language_info": {
   "codemirror_mode": {
    "name": "ipython",
    "version": 3
   },
   "file_extension": ".py",
   "mimetype": "text/x-python",
   "name": "python",
   "nbconvert_exporter": "python",
   "pygments_lexer": "ipython3",
   "version": "3.8.8"
  }
 },
 "nbformat": 4,
 "nbformat_minor": 5
}
